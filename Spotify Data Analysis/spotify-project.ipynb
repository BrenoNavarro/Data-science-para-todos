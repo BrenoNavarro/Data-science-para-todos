{
 "cells": [
  {
   "cell_type": "markdown",
   "metadata": {},
   "source": [
    "# Imports"
   ]
  },
  {
   "cell_type": "code",
   "execution_count": 1,
   "metadata": {},
   "outputs": [],
   "source": [
    "import pandas as pd\n",
    "import numpy as np\n",
    "import seaborn as sns\n",
    "from matplotlib import pyplot as plt"
   ]
  },
  {
   "cell_type": "markdown",
   "metadata": {},
   "source": [
    "## Code"
   ]
  },
  {
   "cell_type": "code",
   "execution_count": 2,
   "metadata": {},
   "outputs": [],
   "source": [
    "df = pd.read_csv('https://storage.googleapis.com/introduction-to-data-science/spotify-dataset.csv',index_col=0)"
   ]
  },
  {
   "cell_type": "markdown",
   "metadata": {},
   "source": [
    "### 1. Can you display the first 10 row of the dataset?"
   ]
  },
  {
   "cell_type": "code",
   "execution_count": 3,
   "metadata": {},
   "outputs": [
    {
     "data": {
      "text/html": [
       "<div>\n",
       "<style scoped>\n",
       "    .dataframe tbody tr th:only-of-type {\n",
       "        vertical-align: middle;\n",
       "    }\n",
       "\n",
       "    .dataframe tbody tr th {\n",
       "        vertical-align: top;\n",
       "    }\n",
       "\n",
       "    .dataframe thead th {\n",
       "        text-align: right;\n",
       "    }\n",
       "</style>\n",
       "<table border=\"1\" class=\"dataframe\">\n",
       "  <thead>\n",
       "    <tr style=\"text-align: right;\">\n",
       "      <th></th>\n",
       "      <th>artists</th>\n",
       "      <th>danceability</th>\n",
       "      <th>duration_ms</th>\n",
       "      <th>energy</th>\n",
       "      <th>explicit</th>\n",
       "      <th>id</th>\n",
       "      <th>instrumentalness</th>\n",
       "      <th>key</th>\n",
       "      <th>liveness</th>\n",
       "      <th>loudness</th>\n",
       "      <th>mode</th>\n",
       "      <th>name</th>\n",
       "      <th>popularity</th>\n",
       "      <th>release_date</th>\n",
       "      <th>speechiness</th>\n",
       "      <th>tempo</th>\n",
       "      <th>valence</th>\n",
       "      <th>year</th>\n",
       "    </tr>\n",
       "    <tr>\n",
       "      <th>acousticness</th>\n",
       "      <th></th>\n",
       "      <th></th>\n",
       "      <th></th>\n",
       "      <th></th>\n",
       "      <th></th>\n",
       "      <th></th>\n",
       "      <th></th>\n",
       "      <th></th>\n",
       "      <th></th>\n",
       "      <th></th>\n",
       "      <th></th>\n",
       "      <th></th>\n",
       "      <th></th>\n",
       "      <th></th>\n",
       "      <th></th>\n",
       "      <th></th>\n",
       "      <th></th>\n",
       "      <th></th>\n",
       "    </tr>\n",
       "  </thead>\n",
       "  <tbody>\n",
       "    <tr>\n",
       "      <th>0.995</th>\n",
       "      <td>['Carl Woitschach']</td>\n",
       "      <td>0.708</td>\n",
       "      <td>158648</td>\n",
       "      <td>0.1950</td>\n",
       "      <td>0</td>\n",
       "      <td>6KbQ3uYMLKb5jDxLF7wYDD</td>\n",
       "      <td>0.563</td>\n",
       "      <td>10</td>\n",
       "      <td>0.1510</td>\n",
       "      <td>-12.428</td>\n",
       "      <td>1</td>\n",
       "      <td>Singende Bataillone 1. Teil</td>\n",
       "      <td>0</td>\n",
       "      <td>1928</td>\n",
       "      <td>0.0506</td>\n",
       "      <td>118.469</td>\n",
       "      <td>0.7790</td>\n",
       "      <td>1928</td>\n",
       "    </tr>\n",
       "    <tr>\n",
       "      <th>0.994</th>\n",
       "      <td>['Robert Schumann', 'Vladimir Horowitz']</td>\n",
       "      <td>0.379</td>\n",
       "      <td>282133</td>\n",
       "      <td>0.0135</td>\n",
       "      <td>0</td>\n",
       "      <td>6KuQTIu1KoTTkLXKrwlLPV</td>\n",
       "      <td>0.901</td>\n",
       "      <td>8</td>\n",
       "      <td>0.0763</td>\n",
       "      <td>-28.454</td>\n",
       "      <td>1</td>\n",
       "      <td>Fantasiestücke, Op. 111: Più tosto lento</td>\n",
       "      <td>0</td>\n",
       "      <td>1928</td>\n",
       "      <td>0.0462</td>\n",
       "      <td>83.972</td>\n",
       "      <td>0.0767</td>\n",
       "      <td>1928</td>\n",
       "    </tr>\n",
       "    <tr>\n",
       "      <th>0.604</th>\n",
       "      <td>['Seweryn Goszczyński']</td>\n",
       "      <td>0.749</td>\n",
       "      <td>104300</td>\n",
       "      <td>0.2200</td>\n",
       "      <td>0</td>\n",
       "      <td>6L63VW0PibdM1HDSBoqnoM</td>\n",
       "      <td>0.000</td>\n",
       "      <td>5</td>\n",
       "      <td>0.1190</td>\n",
       "      <td>-19.924</td>\n",
       "      <td>0</td>\n",
       "      <td>Chapter 1.18 - Zamek kaniowski</td>\n",
       "      <td>0</td>\n",
       "      <td>1928</td>\n",
       "      <td>0.9290</td>\n",
       "      <td>107.177</td>\n",
       "      <td>0.8800</td>\n",
       "      <td>1928</td>\n",
       "    </tr>\n",
       "    <tr>\n",
       "      <th>0.995</th>\n",
       "      <td>['Francisco Canaro']</td>\n",
       "      <td>0.781</td>\n",
       "      <td>180760</td>\n",
       "      <td>0.1300</td>\n",
       "      <td>0</td>\n",
       "      <td>6M94FkXd15sOAOQYRnWPN8</td>\n",
       "      <td>0.887</td>\n",
       "      <td>1</td>\n",
       "      <td>0.1110</td>\n",
       "      <td>-14.734</td>\n",
       "      <td>0</td>\n",
       "      <td>Bebamos Juntos - Instrumental (Remasterizado)</td>\n",
       "      <td>0</td>\n",
       "      <td>1928-09-25</td>\n",
       "      <td>0.0926</td>\n",
       "      <td>108.003</td>\n",
       "      <td>0.7200</td>\n",
       "      <td>1928</td>\n",
       "    </tr>\n",
       "    <tr>\n",
       "      <th>0.990</th>\n",
       "      <td>['Frédéric Chopin', 'Vladimir Horowitz']</td>\n",
       "      <td>0.210</td>\n",
       "      <td>687733</td>\n",
       "      <td>0.2040</td>\n",
       "      <td>0</td>\n",
       "      <td>6N6tiFZ9vLTSOIxkj8qKrd</td>\n",
       "      <td>0.908</td>\n",
       "      <td>11</td>\n",
       "      <td>0.0980</td>\n",
       "      <td>-16.829</td>\n",
       "      <td>1</td>\n",
       "      <td>Polonaise-Fantaisie in A-Flat Major, Op. 61</td>\n",
       "      <td>1</td>\n",
       "      <td>1928</td>\n",
       "      <td>0.0424</td>\n",
       "      <td>62.149</td>\n",
       "      <td>0.0693</td>\n",
       "      <td>1928</td>\n",
       "    </tr>\n",
       "    <tr>\n",
       "      <th>0.995</th>\n",
       "      <td>['Felix Mendelssohn', 'Vladimir Horowitz']</td>\n",
       "      <td>0.424</td>\n",
       "      <td>352600</td>\n",
       "      <td>0.1200</td>\n",
       "      <td>0</td>\n",
       "      <td>6NxAf7M8DNHOBTmEd3JSO5</td>\n",
       "      <td>0.911</td>\n",
       "      <td>6</td>\n",
       "      <td>0.0915</td>\n",
       "      <td>-19.242</td>\n",
       "      <td>0</td>\n",
       "      <td>Scherzo a capriccio: Presto</td>\n",
       "      <td>0</td>\n",
       "      <td>1928</td>\n",
       "      <td>0.0593</td>\n",
       "      <td>63.521</td>\n",
       "      <td>0.2660</td>\n",
       "      <td>1928</td>\n",
       "    </tr>\n",
       "    <tr>\n",
       "      <th>0.956</th>\n",
       "      <td>['Franz Liszt', 'Vladimir Horowitz']</td>\n",
       "      <td>0.444</td>\n",
       "      <td>136627</td>\n",
       "      <td>0.1970</td>\n",
       "      <td>0</td>\n",
       "      <td>6O0puPuyrxPjDTHDUgsWI7</td>\n",
       "      <td>0.435</td>\n",
       "      <td>11</td>\n",
       "      <td>0.0744</td>\n",
       "      <td>-17.226</td>\n",
       "      <td>1</td>\n",
       "      <td>Valse oubliée No. 1 in F-Sharp Major, S. 215/1</td>\n",
       "      <td>0</td>\n",
       "      <td>1928</td>\n",
       "      <td>0.0400</td>\n",
       "      <td>80.495</td>\n",
       "      <td>0.3050</td>\n",
       "      <td>1928</td>\n",
       "    </tr>\n",
       "    <tr>\n",
       "      <th>0.988</th>\n",
       "      <td>['Carl Woitschach']</td>\n",
       "      <td>0.555</td>\n",
       "      <td>153967</td>\n",
       "      <td>0.4210</td>\n",
       "      <td>0</td>\n",
       "      <td>6OJjveoYwJdIt76y0Pxpxw</td>\n",
       "      <td>0.836</td>\n",
       "      <td>1</td>\n",
       "      <td>0.1050</td>\n",
       "      <td>-9.878</td>\n",
       "      <td>1</td>\n",
       "      <td>Per aspera ad astra</td>\n",
       "      <td>0</td>\n",
       "      <td>1928</td>\n",
       "      <td>0.0474</td>\n",
       "      <td>123.310</td>\n",
       "      <td>0.8570</td>\n",
       "      <td>1928</td>\n",
       "    </tr>\n",
       "    <tr>\n",
       "      <th>0.995</th>\n",
       "      <td>['Francisco Canaro', 'Charlo']</td>\n",
       "      <td>0.683</td>\n",
       "      <td>162493</td>\n",
       "      <td>0.2070</td>\n",
       "      <td>0</td>\n",
       "      <td>6OaJ8Bh7lsBeYoBmwmo2nh</td>\n",
       "      <td>0.206</td>\n",
       "      <td>9</td>\n",
       "      <td>0.3370</td>\n",
       "      <td>-9.801</td>\n",
       "      <td>0</td>\n",
       "      <td>Moneda Corriente - Remasterizado</td>\n",
       "      <td>0</td>\n",
       "      <td>1928-10-03</td>\n",
       "      <td>0.1270</td>\n",
       "      <td>119.833</td>\n",
       "      <td>0.4930</td>\n",
       "      <td>1928</td>\n",
       "    </tr>\n",
       "    <tr>\n",
       "      <th>0.846</th>\n",
       "      <td>['Seweryn Goszczyński']</td>\n",
       "      <td>0.674</td>\n",
       "      <td>111600</td>\n",
       "      <td>0.2050</td>\n",
       "      <td>0</td>\n",
       "      <td>6PrZexNb16cabXR8Q418Xc</td>\n",
       "      <td>0.000</td>\n",
       "      <td>9</td>\n",
       "      <td>0.1700</td>\n",
       "      <td>-20.119</td>\n",
       "      <td>1</td>\n",
       "      <td>Chapter 1.3 - Zamek kaniowski</td>\n",
       "      <td>0</td>\n",
       "      <td>1928</td>\n",
       "      <td>0.9540</td>\n",
       "      <td>81.249</td>\n",
       "      <td>0.7590</td>\n",
       "      <td>1928</td>\n",
       "    </tr>\n",
       "  </tbody>\n",
       "</table>\n",
       "</div>"
      ],
      "text/plain": [
       "                                                 artists  danceability  \\\n",
       "acousticness                                                             \n",
       "0.995                                ['Carl Woitschach']         0.708   \n",
       "0.994           ['Robert Schumann', 'Vladimir Horowitz']         0.379   \n",
       "0.604                            ['Seweryn Goszczyński']         0.749   \n",
       "0.995                               ['Francisco Canaro']         0.781   \n",
       "0.990           ['Frédéric Chopin', 'Vladimir Horowitz']         0.210   \n",
       "0.995         ['Felix Mendelssohn', 'Vladimir Horowitz']         0.424   \n",
       "0.956               ['Franz Liszt', 'Vladimir Horowitz']         0.444   \n",
       "0.988                                ['Carl Woitschach']         0.555   \n",
       "0.995                     ['Francisco Canaro', 'Charlo']         0.683   \n",
       "0.846                            ['Seweryn Goszczyński']         0.674   \n",
       "\n",
       "              duration_ms  energy  explicit                      id  \\\n",
       "acousticness                                                          \n",
       "0.995              158648  0.1950         0  6KbQ3uYMLKb5jDxLF7wYDD   \n",
       "0.994              282133  0.0135         0  6KuQTIu1KoTTkLXKrwlLPV   \n",
       "0.604              104300  0.2200         0  6L63VW0PibdM1HDSBoqnoM   \n",
       "0.995              180760  0.1300         0  6M94FkXd15sOAOQYRnWPN8   \n",
       "0.990              687733  0.2040         0  6N6tiFZ9vLTSOIxkj8qKrd   \n",
       "0.995              352600  0.1200         0  6NxAf7M8DNHOBTmEd3JSO5   \n",
       "0.956              136627  0.1970         0  6O0puPuyrxPjDTHDUgsWI7   \n",
       "0.988              153967  0.4210         0  6OJjveoYwJdIt76y0Pxpxw   \n",
       "0.995              162493  0.2070         0  6OaJ8Bh7lsBeYoBmwmo2nh   \n",
       "0.846              111600  0.2050         0  6PrZexNb16cabXR8Q418Xc   \n",
       "\n",
       "              instrumentalness  key  liveness  loudness  mode  \\\n",
       "acousticness                                                    \n",
       "0.995                    0.563   10    0.1510   -12.428     1   \n",
       "0.994                    0.901    8    0.0763   -28.454     1   \n",
       "0.604                    0.000    5    0.1190   -19.924     0   \n",
       "0.995                    0.887    1    0.1110   -14.734     0   \n",
       "0.990                    0.908   11    0.0980   -16.829     1   \n",
       "0.995                    0.911    6    0.0915   -19.242     0   \n",
       "0.956                    0.435   11    0.0744   -17.226     1   \n",
       "0.988                    0.836    1    0.1050    -9.878     1   \n",
       "0.995                    0.206    9    0.3370    -9.801     0   \n",
       "0.846                    0.000    9    0.1700   -20.119     1   \n",
       "\n",
       "                                                        name  popularity  \\\n",
       "acousticness                                                               \n",
       "0.995                            Singende Bataillone 1. Teil           0   \n",
       "0.994               Fantasiestücke, Op. 111: Più tosto lento           0   \n",
       "0.604                         Chapter 1.18 - Zamek kaniowski           0   \n",
       "0.995          Bebamos Juntos - Instrumental (Remasterizado)           0   \n",
       "0.990            Polonaise-Fantaisie in A-Flat Major, Op. 61           1   \n",
       "0.995                            Scherzo a capriccio: Presto           0   \n",
       "0.956         Valse oubliée No. 1 in F-Sharp Major, S. 215/1           0   \n",
       "0.988                                    Per aspera ad astra           0   \n",
       "0.995                       Moneda Corriente - Remasterizado           0   \n",
       "0.846                          Chapter 1.3 - Zamek kaniowski           0   \n",
       "\n",
       "             release_date  speechiness    tempo  valence  year  \n",
       "acousticness                                                    \n",
       "0.995                1928       0.0506  118.469   0.7790  1928  \n",
       "0.994                1928       0.0462   83.972   0.0767  1928  \n",
       "0.604                1928       0.9290  107.177   0.8800  1928  \n",
       "0.995          1928-09-25       0.0926  108.003   0.7200  1928  \n",
       "0.990                1928       0.0424   62.149   0.0693  1928  \n",
       "0.995                1928       0.0593   63.521   0.2660  1928  \n",
       "0.956                1928       0.0400   80.495   0.3050  1928  \n",
       "0.988                1928       0.0474  123.310   0.8570  1928  \n",
       "0.995          1928-10-03       0.1270  119.833   0.4930  1928  \n",
       "0.846                1928       0.9540   81.249   0.7590  1928  "
      ]
     },
     "execution_count": 3,
     "metadata": {},
     "output_type": "execute_result"
    }
   ],
   "source": [
    "df.head(10)"
   ]
  },
  {
   "cell_type": "markdown",
   "metadata": {},
   "source": [
    "### 2. Are there any missing values in the dataset?"
   ]
  },
  {
   "cell_type": "code",
   "execution_count": 4,
   "metadata": {},
   "outputs": [
    {
     "data": {
      "text/plain": [
       "artists             0\n",
       "danceability        0\n",
       "duration_ms         0\n",
       "energy              0\n",
       "explicit            0\n",
       "id                  0\n",
       "instrumentalness    0\n",
       "key                 0\n",
       "liveness            0\n",
       "loudness            0\n",
       "mode                0\n",
       "name                0\n",
       "popularity          0\n",
       "release_date        0\n",
       "speechiness         0\n",
       "tempo               0\n",
       "valence             0\n",
       "year                0\n",
       "dtype: int64"
      ]
     },
     "execution_count": 4,
     "metadata": {},
     "output_type": "execute_result"
    }
   ],
   "source": [
    "df.isnull().sum()"
   ]
  },
  {
   "cell_type": "markdown",
   "metadata": {},
   "source": [
    "### 3. How many songs are there in the dataset?"
   ]
  },
  {
   "cell_type": "code",
   "execution_count": 5,
   "metadata": {},
   "outputs": [
    {
     "data": {
      "text/plain": [
       "169909"
      ]
     },
     "execution_count": 5,
     "metadata": {},
     "output_type": "execute_result"
    }
   ],
   "source": [
    "df.shape[0]"
   ]
  },
  {
   "cell_type": "markdown",
   "metadata": {},
   "source": [
    "### 4. How many artists?"
   ]
  },
  {
   "cell_type": "code",
   "execution_count": 6,
   "metadata": {},
   "outputs": [
    {
     "data": {
      "text/plain": [
       "33375"
      ]
     },
     "execution_count": 6,
     "metadata": {},
     "output_type": "execute_result"
    }
   ],
   "source": [
    "len(pd.Series(df['artists']).unique())"
   ]
  },
  {
   "cell_type": "markdown",
   "metadata": {},
   "source": [
    "### 5. What's the average duration of a song, in minutes?"
   ]
  },
  {
   "cell_type": "code",
   "execution_count": 7,
   "metadata": {},
   "outputs": [
    {
     "data": {
      "text/plain": [
       "116.9480173740055"
      ]
     },
     "execution_count": 7,
     "metadata": {},
     "output_type": "execute_result"
    }
   ],
   "source": [
    "df['tempo'].mean()"
   ]
  },
  {
   "cell_type": "markdown",
   "metadata": {},
   "source": [
    "### 6. Can you plot the distribution of the durations?"
   ]
  },
  {
   "cell_type": "code",
   "execution_count": 8,
   "metadata": {},
   "outputs": [
    {
     "data": {
      "text/plain": [
       "<matplotlib.axes._subplots.AxesSubplot at 0x2ceaca6ac48>"
      ]
     },
     "execution_count": 8,
     "metadata": {},
     "output_type": "execute_result"
    },
    {
     "data": {
      "image/png": "[encoded data removed]",
      "text/plain": [
       "<Figure size 432x288 with 1 Axes>"
      ]
     },
     "metadata": {
      "needs_background": "light"
     },
     "output_type": "display_data"
    }
   ],
   "source": [
    "sns.distplot(df['tempo'])"
   ]
  },
  {
   "cell_type": "markdown",
   "metadata": {},
   "source": [
    "### 7. [Follow-up] Can you make this plot more readable by removing outliers (extreme values)?"
   ]
  },
  {
   "cell_type": "code",
   "execution_count": 9,
   "metadata": {},
   "outputs": [
    {
     "data": {
      "text/plain": [
       "<matplotlib.axes._subplots.AxesSubplot at 0x2ceacb3e308>"
      ]
     },
     "execution_count": 9,
     "metadata": {},
     "output_type": "execute_result"
    },
    {
     "data": {
      "image/png": "[encoded data removed]",
      "text/plain": [
       "<Figure size 432x288 with 1 Axes>"
      ]
     },
     "metadata": {
      "needs_background": "light"
     },
     "output_type": "display_data"
    }
   ],
   "source": [
    "sns.distplot(df['tempo'][ (df['tempo'] >=50) & (df['tempo'] <=200) ])"
   ]
  },
  {
   "cell_type": "markdown",
   "metadata": {},
   "source": [
    "### 8. What are the top 10 longest songs (duration)?"
   ]
  },
  {
   "cell_type": "code",
   "execution_count": 10,
   "metadata": {},
   "outputs": [
    {
     "data": {
      "text/html": [
       "<div>\n",
       "<style scoped>\n",
       "    .dataframe tbody tr th:only-of-type {\n",
       "        vertical-align: middle;\n",
       "    }\n",
       "\n",
       "    .dataframe tbody tr th {\n",
       "        vertical-align: top;\n",
       "    }\n",
       "\n",
       "    .dataframe thead th {\n",
       "        text-align: right;\n",
       "    }\n",
       "</style>\n",
       "<table border=\"1\" class=\"dataframe\">\n",
       "  <thead>\n",
       "    <tr style=\"text-align: right;\">\n",
       "      <th></th>\n",
       "      <th>artists</th>\n",
       "      <th>danceability</th>\n",
       "      <th>duration_ms</th>\n",
       "      <th>energy</th>\n",
       "      <th>explicit</th>\n",
       "      <th>id</th>\n",
       "      <th>instrumentalness</th>\n",
       "      <th>key</th>\n",
       "      <th>liveness</th>\n",
       "      <th>loudness</th>\n",
       "      <th>mode</th>\n",
       "      <th>name</th>\n",
       "      <th>popularity</th>\n",
       "      <th>release_date</th>\n",
       "      <th>speechiness</th>\n",
       "      <th>tempo</th>\n",
       "      <th>valence</th>\n",
       "      <th>year</th>\n",
       "    </tr>\n",
       "    <tr>\n",
       "      <th>acousticness</th>\n",
       "      <th></th>\n",
       "      <th></th>\n",
       "      <th></th>\n",
       "      <th></th>\n",
       "      <th></th>\n",
       "      <th></th>\n",
       "      <th></th>\n",
       "      <th></th>\n",
       "      <th></th>\n",
       "      <th></th>\n",
       "      <th></th>\n",
       "      <th></th>\n",
       "      <th></th>\n",
       "      <th></th>\n",
       "      <th></th>\n",
       "      <th></th>\n",
       "      <th></th>\n",
       "      <th></th>\n",
       "    </tr>\n",
       "  </thead>\n",
       "  <tbody>\n",
       "    <tr>\n",
       "      <th>0.561000</th>\n",
       "      <td>['Bill Withers']</td>\n",
       "      <td>0.538</td>\n",
       "      <td>276733</td>\n",
       "      <td>0.389</td>\n",
       "      <td>0</td>\n",
       "      <td>3BaFRtmUWO1Z3gzc9zYRh2</td>\n",
       "      <td>0.357000</td>\n",
       "      <td>11</td>\n",
       "      <td>0.0864</td>\n",
       "      <td>-13.558</td>\n",
       "      <td>0</td>\n",
       "      <td>I Don't Want You On My Mind</td>\n",
       "      <td>40</td>\n",
       "      <td>1994-08-09</td>\n",
       "      <td>0.0486</td>\n",
       "      <td>244.091</td>\n",
       "      <td>0.7900</td>\n",
       "      <td>1994</td>\n",
       "    </tr>\n",
       "    <tr>\n",
       "      <th>0.497000</th>\n",
       "      <td>['Bill Withers']</td>\n",
       "      <td>0.535</td>\n",
       "      <td>277221</td>\n",
       "      <td>0.380</td>\n",
       "      <td>0</td>\n",
       "      <td>56n7xjncKs9RInEHAmjtco</td>\n",
       "      <td>0.257000</td>\n",
       "      <td>11</td>\n",
       "      <td>0.0720</td>\n",
       "      <td>-13.790</td>\n",
       "      <td>0</td>\n",
       "      <td>I Don't Want You on My Mind</td>\n",
       "      <td>36</td>\n",
       "      <td>1972-05-01</td>\n",
       "      <td>0.0497</td>\n",
       "      <td>243.507</td>\n",
       "      <td>0.8280</td>\n",
       "      <td>1972</td>\n",
       "    </tr>\n",
       "    <tr>\n",
       "      <th>0.196000</th>\n",
       "      <td>['J.J. Cale']</td>\n",
       "      <td>0.466</td>\n",
       "      <td>147200</td>\n",
       "      <td>0.188</td>\n",
       "      <td>0</td>\n",
       "      <td>55ROr3cl3yi4YRBgfpDy1d</td>\n",
       "      <td>0.657000</td>\n",
       "      <td>1</td>\n",
       "      <td>0.0820</td>\n",
       "      <td>-18.309</td>\n",
       "      <td>0</td>\n",
       "      <td>Call The Doctor</td>\n",
       "      <td>48</td>\n",
       "      <td>1972</td>\n",
       "      <td>0.0547</td>\n",
       "      <td>243.372</td>\n",
       "      <td>0.6150</td>\n",
       "      <td>1972</td>\n",
       "    </tr>\n",
       "    <tr>\n",
       "      <th>0.617000</th>\n",
       "      <td>['Bob Dylan']</td>\n",
       "      <td>0.429</td>\n",
       "      <td>194733</td>\n",
       "      <td>0.225</td>\n",
       "      <td>0</td>\n",
       "      <td>4xhHhecO7i0jEySdGKQMWp</td>\n",
       "      <td>0.000006</td>\n",
       "      <td>2</td>\n",
       "      <td>0.1120</td>\n",
       "      <td>-15.342</td>\n",
       "      <td>0</td>\n",
       "      <td>Dear Landlord</td>\n",
       "      <td>33</td>\n",
       "      <td>1967-12-27</td>\n",
       "      <td>0.0396</td>\n",
       "      <td>238.895</td>\n",
       "      <td>0.4570</td>\n",
       "      <td>1967</td>\n",
       "    </tr>\n",
       "    <tr>\n",
       "      <th>0.261000</th>\n",
       "      <td>['Grateful Dead']</td>\n",
       "      <td>0.332</td>\n",
       "      <td>373970</td>\n",
       "      <td>0.423</td>\n",
       "      <td>0</td>\n",
       "      <td>4FJ0051ukEptZAhP01ExGV</td>\n",
       "      <td>0.000140</td>\n",
       "      <td>0</td>\n",
       "      <td>0.0716</td>\n",
       "      <td>-12.102</td>\n",
       "      <td>1</td>\n",
       "      <td>Candyman - 2013 Remaster</td>\n",
       "      <td>43</td>\n",
       "      <td>1970-06-01</td>\n",
       "      <td>0.0384</td>\n",
       "      <td>236.799</td>\n",
       "      <td>0.5190</td>\n",
       "      <td>1970</td>\n",
       "    </tr>\n",
       "    <tr>\n",
       "      <th>0.084100</th>\n",
       "      <td>['Suicide']</td>\n",
       "      <td>0.157</td>\n",
       "      <td>229840</td>\n",
       "      <td>0.500</td>\n",
       "      <td>0</td>\n",
       "      <td>0XRX7qxRLh4HFvDqvD1hHV</td>\n",
       "      <td>0.688000</td>\n",
       "      <td>6</td>\n",
       "      <td>0.2230</td>\n",
       "      <td>-14.337</td>\n",
       "      <td>0</td>\n",
       "      <td>Surrender - 2005 Remastered Version</td>\n",
       "      <td>30</td>\n",
       "      <td>1988-01-01</td>\n",
       "      <td>0.0464</td>\n",
       "      <td>224.437</td>\n",
       "      <td>0.3590</td>\n",
       "      <td>1988</td>\n",
       "    </tr>\n",
       "    <tr>\n",
       "      <th>0.450000</th>\n",
       "      <td>['Portishead']</td>\n",
       "      <td>0.241</td>\n",
       "      <td>260027</td>\n",
       "      <td>0.281</td>\n",
       "      <td>0</td>\n",
       "      <td>25G1w3E4OMrovtPE5F510g</td>\n",
       "      <td>0.000007</td>\n",
       "      <td>0</td>\n",
       "      <td>0.0937</td>\n",
       "      <td>-8.726</td>\n",
       "      <td>1</td>\n",
       "      <td>Undenied</td>\n",
       "      <td>45</td>\n",
       "      <td>1997-01-01</td>\n",
       "      <td>0.0416</td>\n",
       "      <td>222.605</td>\n",
       "      <td>0.0321</td>\n",
       "      <td>1997</td>\n",
       "    </tr>\n",
       "    <tr>\n",
       "      <th>0.994000</th>\n",
       "      <td>['Bimal Gupta']</td>\n",
       "      <td>0.367</td>\n",
       "      <td>192807</td>\n",
       "      <td>0.293</td>\n",
       "      <td>0</td>\n",
       "      <td>0lxjAnjTPqtiq4Ehm13LJV</td>\n",
       "      <td>0.921000</td>\n",
       "      <td>4</td>\n",
       "      <td>0.2260</td>\n",
       "      <td>-18.038</td>\n",
       "      <td>1</td>\n",
       "      <td>Biyer Pare</td>\n",
       "      <td>0</td>\n",
       "      <td>1934-12-31</td>\n",
       "      <td>0.1710</td>\n",
       "      <td>221.741</td>\n",
       "      <td>0.8410</td>\n",
       "      <td>1934</td>\n",
       "    </tr>\n",
       "    <tr>\n",
       "      <th>0.000003</th>\n",
       "      <td>['Big Black']</td>\n",
       "      <td>0.222</td>\n",
       "      <td>100507</td>\n",
       "      <td>0.889</td>\n",
       "      <td>1</td>\n",
       "      <td>4RZqXtdJaIYjcNa7LB5cxK</td>\n",
       "      <td>0.228000</td>\n",
       "      <td>4</td>\n",
       "      <td>0.1110</td>\n",
       "      <td>-10.007</td>\n",
       "      <td>0</td>\n",
       "      <td>L Dopa</td>\n",
       "      <td>29</td>\n",
       "      <td>1987-09-10</td>\n",
       "      <td>0.0576</td>\n",
       "      <td>221.112</td>\n",
       "      <td>0.3230</td>\n",
       "      <td>1987</td>\n",
       "    </tr>\n",
       "    <tr>\n",
       "      <th>0.978000</th>\n",
       "      <td>['Anestis Delias']</td>\n",
       "      <td>0.455</td>\n",
       "      <td>199933</td>\n",
       "      <td>0.586</td>\n",
       "      <td>0</td>\n",
       "      <td>65FegRCzQ8x1UkLUzXe3CA</td>\n",
       "      <td>0.897000</td>\n",
       "      <td>1</td>\n",
       "      <td>0.2170</td>\n",
       "      <td>-10.687</td>\n",
       "      <td>1</td>\n",
       "      <td>To xaremi sto xamam</td>\n",
       "      <td>0</td>\n",
       "      <td>1930-01-01</td>\n",
       "      <td>0.0416</td>\n",
       "      <td>221.058</td>\n",
       "      <td>0.5690</td>\n",
       "      <td>1930</td>\n",
       "    </tr>\n",
       "  </tbody>\n",
       "</table>\n",
       "</div>"
      ],
      "text/plain": [
       "                         artists  danceability  duration_ms  energy  explicit  \\\n",
       "acousticness                                                                    \n",
       "0.561000        ['Bill Withers']         0.538       276733   0.389         0   \n",
       "0.497000        ['Bill Withers']         0.535       277221   0.380         0   \n",
       "0.196000           ['J.J. Cale']         0.466       147200   0.188         0   \n",
       "0.617000           ['Bob Dylan']         0.429       194733   0.225         0   \n",
       "0.261000       ['Grateful Dead']         0.332       373970   0.423         0   \n",
       "0.084100             ['Suicide']         0.157       229840   0.500         0   \n",
       "0.450000          ['Portishead']         0.241       260027   0.281         0   \n",
       "0.994000         ['Bimal Gupta']         0.367       192807   0.293         0   \n",
       "0.000003           ['Big Black']         0.222       100507   0.889         1   \n",
       "0.978000      ['Anestis Delias']         0.455       199933   0.586         0   \n",
       "\n",
       "                                  id  instrumentalness  key  liveness  \\\n",
       "acousticness                                                            \n",
       "0.561000      3BaFRtmUWO1Z3gzc9zYRh2          0.357000   11    0.0864   \n",
       "0.497000      56n7xjncKs9RInEHAmjtco          0.257000   11    0.0720   \n",
       "0.196000      55ROr3cl3yi4YRBgfpDy1d          0.657000    1    0.0820   \n",
       "0.617000      4xhHhecO7i0jEySdGKQMWp          0.000006    2    0.1120   \n",
       "0.261000      4FJ0051ukEptZAhP01ExGV          0.000140    0    0.0716   \n",
       "0.084100      0XRX7qxRLh4HFvDqvD1hHV          0.688000    6    0.2230   \n",
       "0.450000      25G1w3E4OMrovtPE5F510g          0.000007    0    0.0937   \n",
       "0.994000      0lxjAnjTPqtiq4Ehm13LJV          0.921000    4    0.2260   \n",
       "0.000003      4RZqXtdJaIYjcNa7LB5cxK          0.228000    4    0.1110   \n",
       "0.978000      65FegRCzQ8x1UkLUzXe3CA          0.897000    1    0.2170   \n",
       "\n",
       "              loudness  mode                                 name  popularity  \\\n",
       "acousticness                                                                    \n",
       "0.561000       -13.558     0          I Don't Want You On My Mind          40   \n",
       "0.497000       -13.790     0          I Don't Want You on My Mind          36   \n",
       "0.196000       -18.309     0                      Call The Doctor          48   \n",
       "0.617000       -15.342     0                        Dear Landlord          33   \n",
       "0.261000       -12.102     1             Candyman - 2013 Remaster          43   \n",
       "0.084100       -14.337     0  Surrender - 2005 Remastered Version          30   \n",
       "0.450000        -8.726     1                             Undenied          45   \n",
       "0.994000       -18.038     1                           Biyer Pare           0   \n",
       "0.000003       -10.007     0                               L Dopa          29   \n",
       "0.978000       -10.687     1                  To xaremi sto xamam           0   \n",
       "\n",
       "             release_date  speechiness    tempo  valence  year  \n",
       "acousticness                                                    \n",
       "0.561000       1994-08-09       0.0486  244.091   0.7900  1994  \n",
       "0.497000       1972-05-01       0.0497  243.507   0.8280  1972  \n",
       "0.196000             1972       0.0547  243.372   0.6150  1972  \n",
       "0.617000       1967-12-27       0.0396  238.895   0.4570  1967  \n",
       "0.261000       1970-06-01       0.0384  236.799   0.5190  1970  \n",
       "0.084100       1988-01-01       0.0464  224.437   0.3590  1988  \n",
       "0.450000       1997-01-01       0.0416  222.605   0.0321  1997  \n",
       "0.994000       1934-12-31       0.1710  221.741   0.8410  1934  \n",
       "0.000003       1987-09-10       0.0576  221.112   0.3230  1987  \n",
       "0.978000       1930-01-01       0.0416  221.058   0.5690  1930  "
      ]
     },
     "execution_count": 10,
     "metadata": {},
     "output_type": "execute_result"
    }
   ],
   "source": [
    "df.sort_values('tempo',ascending=False).head(10)"
   ]
  },
  {
   "cell_type": "markdown",
   "metadata": {},
   "source": [
    "### 9. How long would it take to listen to all the songs?"
   ]
  },
  {
   "cell_type": "code",
   "execution_count": 11,
   "metadata": {},
   "outputs": [
    {
     "data": {
      "text/plain": [
       "19870520.684"
      ]
     },
     "execution_count": 11,
     "metadata": {},
     "output_type": "execute_result"
    }
   ],
   "source": [
    "df['tempo'].sum()"
   ]
  },
  {
   "cell_type": "markdown",
   "metadata": {},
   "source": [
    "### 10. What are the top 10 most popular songs? We would like a DataFrame with only the columns artists, name and popularity as output!"
   ]
  },
  {
   "cell_type": "code",
   "execution_count": 12,
   "metadata": {},
   "outputs": [
    {
     "data": {
      "text/html": [
       "<div>\n",
       "<style scoped>\n",
       "    .dataframe tbody tr th:only-of-type {\n",
       "        vertical-align: middle;\n",
       "    }\n",
       "\n",
       "    .dataframe tbody tr th {\n",
       "        vertical-align: top;\n",
       "    }\n",
       "\n",
       "    .dataframe thead th {\n",
       "        text-align: right;\n",
       "    }\n",
       "</style>\n",
       "<table border=\"1\" class=\"dataframe\">\n",
       "  <thead>\n",
       "    <tr style=\"text-align: right;\">\n",
       "      <th></th>\n",
       "      <th>artists</th>\n",
       "      <th>name</th>\n",
       "      <th>popularity</th>\n",
       "    </tr>\n",
       "    <tr>\n",
       "      <th>acousticness</th>\n",
       "      <th></th>\n",
       "      <th></th>\n",
       "      <th></th>\n",
       "    </tr>\n",
       "  </thead>\n",
       "  <tbody>\n",
       "    <tr>\n",
       "      <th>0.00146</th>\n",
       "      <td>['The Weeknd']</td>\n",
       "      <td>Blinding Lights</td>\n",
       "      <td>100</td>\n",
       "    </tr>\n",
       "    <tr>\n",
       "      <th>0.24700</th>\n",
       "      <td>['DaBaby', 'Roddy Ricch']</td>\n",
       "      <td>ROCKSTAR (feat. Roddy Ricch)</td>\n",
       "      <td>99</td>\n",
       "    </tr>\n",
       "    <tr>\n",
       "      <th>0.73100</th>\n",
       "      <td>['Powfu', 'beabadoobee']</td>\n",
       "      <td>death bed (coffee for your head) (feat. beabad...</td>\n",
       "      <td>97</td>\n",
       "    </tr>\n",
       "    <tr>\n",
       "      <th>0.23300</th>\n",
       "      <td>['THE SCOTTS', 'Travis Scott', 'Kid Cudi']</td>\n",
       "      <td>THE SCOTTS</td>\n",
       "      <td>96</td>\n",
       "    </tr>\n",
       "    <tr>\n",
       "      <th>0.06860</th>\n",
       "      <td>['Surf Mesa', 'Emilee']</td>\n",
       "      <td>ily (i love you baby) (feat. Emilee)</td>\n",
       "      <td>95</td>\n",
       "    </tr>\n",
       "    <tr>\n",
       "      <th>0.32100</th>\n",
       "      <td>['Drake']</td>\n",
       "      <td>Toosie Slide</td>\n",
       "      <td>95</td>\n",
       "    </tr>\n",
       "    <tr>\n",
       "      <th>0.10400</th>\n",
       "      <td>['Roddy Ricch']</td>\n",
       "      <td>The Box</td>\n",
       "      <td>95</td>\n",
       "    </tr>\n",
       "    <tr>\n",
       "      <th>0.30500</th>\n",
       "      <td>['BENEE', 'Gus Dapperton']</td>\n",
       "      <td>Supalonely</td>\n",
       "      <td>95</td>\n",
       "    </tr>\n",
       "    <tr>\n",
       "      <th>0.74900</th>\n",
       "      <td>['StaySolidRocky']</td>\n",
       "      <td>Party Girl</td>\n",
       "      <td>94</td>\n",
       "    </tr>\n",
       "    <tr>\n",
       "      <th>0.02640</th>\n",
       "      <td>['6ix9ine']</td>\n",
       "      <td>GOOBA</td>\n",
       "      <td>94</td>\n",
       "    </tr>\n",
       "  </tbody>\n",
       "</table>\n",
       "</div>"
      ],
      "text/plain": [
       "                                                 artists  \\\n",
       "acousticness                                               \n",
       "0.00146                                   ['The Weeknd']   \n",
       "0.24700                        ['DaBaby', 'Roddy Ricch']   \n",
       "0.73100                         ['Powfu', 'beabadoobee']   \n",
       "0.23300       ['THE SCOTTS', 'Travis Scott', 'Kid Cudi']   \n",
       "0.06860                          ['Surf Mesa', 'Emilee']   \n",
       "0.32100                                        ['Drake']   \n",
       "0.10400                                  ['Roddy Ricch']   \n",
       "0.30500                       ['BENEE', 'Gus Dapperton']   \n",
       "0.74900                               ['StaySolidRocky']   \n",
       "0.02640                                      ['6ix9ine']   \n",
       "\n",
       "                                                           name  popularity  \n",
       "acousticness                                                                 \n",
       "0.00146                                         Blinding Lights         100  \n",
       "0.24700                            ROCKSTAR (feat. Roddy Ricch)          99  \n",
       "0.73100       death bed (coffee for your head) (feat. beabad...          97  \n",
       "0.23300                                              THE SCOTTS          96  \n",
       "0.06860                    ily (i love you baby) (feat. Emilee)          95  \n",
       "0.32100                                            Toosie Slide          95  \n",
       "0.10400                                                 The Box          95  \n",
       "0.30500                                              Supalonely          95  \n",
       "0.74900                                              Party Girl          94  \n",
       "0.02640                                                   GOOBA          94  "
      ]
     },
     "execution_count": 12,
     "metadata": {},
     "output_type": "execute_result"
    }
   ],
   "source": [
    "df[['artists','name','popularity']].sort_values('popularity',ascending=False).head(10)"
   ]
  },
  {
   "cell_type": "markdown",
   "metadata": {},
   "source": [
    "### 12. Can you plot the distribution of popularity?"
   ]
  },
  {
   "cell_type": "code",
   "execution_count": 13,
   "metadata": {},
   "outputs": [
    {
     "data": {
      "text/plain": [
       "<matplotlib.axes._subplots.AxesSubplot at 0x2ceacd03408>"
      ]
     },
     "execution_count": 13,
     "metadata": {},
     "output_type": "execute_result"
    },
    {
     "data": {
      "image/png": "[encoded data removed]",
      "text/plain": [
       "<Figure size 432x288 with 1 Axes>"
      ]
     },
     "metadata": {
      "needs_background": "light"
     },
     "output_type": "display_data"
    }
   ],
   "source": [
    "sns.distplot(df['popularity'])"
   ]
  },
  {
   "cell_type": "markdown",
   "metadata": {},
   "source": [
    "### 13. What is the most popular song before 2000?"
   ]
  },
  {
   "cell_type": "code",
   "execution_count": 14,
   "metadata": {},
   "outputs": [
    {
     "data": {
      "text/html": [
       "<div>\n",
       "<style scoped>\n",
       "    .dataframe tbody tr th:only-of-type {\n",
       "        vertical-align: middle;\n",
       "    }\n",
       "\n",
       "    .dataframe tbody tr th {\n",
       "        vertical-align: top;\n",
       "    }\n",
       "\n",
       "    .dataframe thead th {\n",
       "        text-align: right;\n",
       "    }\n",
       "</style>\n",
       "<table border=\"1\" class=\"dataframe\">\n",
       "  <thead>\n",
       "    <tr style=\"text-align: right;\">\n",
       "      <th></th>\n",
       "      <th>artists</th>\n",
       "      <th>name</th>\n",
       "      <th>popularity</th>\n",
       "      <th>release_date</th>\n",
       "    </tr>\n",
       "    <tr>\n",
       "      <th>acousticness</th>\n",
       "      <th></th>\n",
       "      <th></th>\n",
       "      <th></th>\n",
       "      <th></th>\n",
       "    </tr>\n",
       "  </thead>\n",
       "  <tbody>\n",
       "    <tr>\n",
       "      <th>0.0778</th>\n",
       "      <td>['Bon Jovi']</td>\n",
       "      <td>Livin' On A Prayer</td>\n",
       "      <td>83</td>\n",
       "      <td>1986-08-16</td>\n",
       "    </tr>\n",
       "  </tbody>\n",
       "</table>\n",
       "</div>"
      ],
      "text/plain": [
       "                   artists                name  popularity release_date\n",
       "acousticness                                                           \n",
       "0.0778        ['Bon Jovi']  Livin' On A Prayer          83   1986-08-16"
      ]
     },
     "execution_count": 14,
     "metadata": {},
     "output_type": "execute_result"
    }
   ],
   "source": [
    "df[['artists','name','popularity','release_date']][df['release_date'] < '2000-01-01'].sort_values('popularity',ascending = False).head(1)"
   ]
  },
  {
   "cell_type": "markdown",
   "metadata": {},
   "source": [
    "### 14. What are the top 10 artists in terms of number of songs?"
   ]
  },
  {
   "cell_type": "code",
   "execution_count": 15,
   "metadata": {},
   "outputs": [
    {
     "data": {
      "text/html": [
       "<div>\n",
       "<style scoped>\n",
       "    .dataframe tbody tr th:only-of-type {\n",
       "        vertical-align: middle;\n",
       "    }\n",
       "\n",
       "    .dataframe tbody tr th {\n",
       "        vertical-align: top;\n",
       "    }\n",
       "\n",
       "    .dataframe thead th {\n",
       "        text-align: right;\n",
       "    }\n",
       "</style>\n",
       "<table border=\"1\" class=\"dataframe\">\n",
       "  <thead>\n",
       "    <tr style=\"text-align: right;\">\n",
       "      <th></th>\n",
       "      <th>name</th>\n",
       "    </tr>\n",
       "    <tr>\n",
       "      <th>artists</th>\n",
       "      <th></th>\n",
       "    </tr>\n",
       "  </thead>\n",
       "  <tbody>\n",
       "    <tr>\n",
       "      <th>['Эрнест Хемингуэй']</th>\n",
       "      <td>1215</td>\n",
       "    </tr>\n",
       "    <tr>\n",
       "      <th>['Francisco Canaro']</th>\n",
       "      <td>938</td>\n",
       "    </tr>\n",
       "    <tr>\n",
       "      <th>['Эрих Мария Ремарк']</th>\n",
       "      <td>781</td>\n",
       "    </tr>\n",
       "    <tr>\n",
       "      <th>['Ignacio Corsini']</th>\n",
       "      <td>620</td>\n",
       "    </tr>\n",
       "    <tr>\n",
       "      <th>['Frank Sinatra']</th>\n",
       "      <td>592</td>\n",
       "    </tr>\n",
       "    <tr>\n",
       "      <th>['Bob Dylan']</th>\n",
       "      <td>539</td>\n",
       "    </tr>\n",
       "    <tr>\n",
       "      <th>['The Rolling Stones']</th>\n",
       "      <td>512</td>\n",
       "    </tr>\n",
       "    <tr>\n",
       "      <th>['Johnny Cash']</th>\n",
       "      <td>502</td>\n",
       "    </tr>\n",
       "    <tr>\n",
       "      <th>['The Beach Boys']</th>\n",
       "      <td>491</td>\n",
       "    </tr>\n",
       "    <tr>\n",
       "      <th>['Elvis Presley']</th>\n",
       "      <td>488</td>\n",
       "    </tr>\n",
       "  </tbody>\n",
       "</table>\n",
       "</div>"
      ],
      "text/plain": [
       "                        name\n",
       "artists                     \n",
       "['Эрнест Хемингуэй']    1215\n",
       "['Francisco Canaro']     938\n",
       "['Эрих Мария Ремарк']    781\n",
       "['Ignacio Corsini']      620\n",
       "['Frank Sinatra']        592\n",
       "['Bob Dylan']            539\n",
       "['The Rolling Stones']   512\n",
       "['Johnny Cash']          502\n",
       "['The Beach Boys']       491\n",
       "['Elvis Presley']        488"
      ]
     },
     "execution_count": 15,
     "metadata": {},
     "output_type": "execute_result"
    }
   ],
   "source": [
    "df[['artists','name']].groupby('artists').count().sort_values('name',ascending = False).head(10)"
   ]
  },
  {
   "cell_type": "markdown",
   "metadata": {},
   "source": [
    "### 15 [Follow-up] can you make a bar chart out of this result?"
   ]
  },
  {
   "cell_type": "code",
   "execution_count": 16,
   "metadata": {},
   "outputs": [
    {
     "data": {
      "text/plain": [
       "<matplotlib.axes._subplots.AxesSubplot at 0x2ceacfa42c8>"
      ]
     },
     "execution_count": 16,
     "metadata": {},
     "output_type": "execute_result"
    },
    {
     "data": {
      "image/png": "[encoded data removed]",
      "text/plain": [
       "<Figure size 432x288 with 1 Axes>"
      ]
     },
     "metadata": {
      "needs_background": "light"
     },
     "output_type": "display_data"
    }
   ],
   "source": [
    "df[['artists','name']].groupby('artists').count().sort_values('name',ascending = False).head(10).plot(kind = 'bar')"
   ]
  },
  {
   "cell_type": "markdown",
   "metadata": {},
   "source": [
    "### 16. How many songs by key?"
   ]
  },
  {
   "cell_type": "code",
   "execution_count": 17,
   "metadata": {},
   "outputs": [
    {
     "data": {
      "text/html": [
       "<div>\n",
       "<style scoped>\n",
       "    .dataframe tbody tr th:only-of-type {\n",
       "        vertical-align: middle;\n",
       "    }\n",
       "\n",
       "    .dataframe tbody tr th {\n",
       "        vertical-align: top;\n",
       "    }\n",
       "\n",
       "    .dataframe thead th {\n",
       "        text-align: right;\n",
       "    }\n",
       "</style>\n",
       "<table border=\"1\" class=\"dataframe\">\n",
       "  <thead>\n",
       "    <tr style=\"text-align: right;\">\n",
       "      <th></th>\n",
       "      <th>name</th>\n",
       "    </tr>\n",
       "    <tr>\n",
       "      <th>key</th>\n",
       "      <th></th>\n",
       "    </tr>\n",
       "  </thead>\n",
       "  <tbody>\n",
       "    <tr>\n",
       "      <th>0</th>\n",
       "      <td>21499</td>\n",
       "    </tr>\n",
       "    <tr>\n",
       "      <th>7</th>\n",
       "      <td>20757</td>\n",
       "    </tr>\n",
       "    <tr>\n",
       "      <th>2</th>\n",
       "      <td>18821</td>\n",
       "    </tr>\n",
       "    <tr>\n",
       "      <th>9</th>\n",
       "      <td>17628</td>\n",
       "    </tr>\n",
       "    <tr>\n",
       "      <th>5</th>\n",
       "      <td>16336</td>\n",
       "    </tr>\n",
       "    <tr>\n",
       "      <th>4</th>\n",
       "      <td>12921</td>\n",
       "    </tr>\n",
       "    <tr>\n",
       "      <th>1</th>\n",
       "      <td>12816</td>\n",
       "    </tr>\n",
       "    <tr>\n",
       "      <th>10</th>\n",
       "      <td>12056</td>\n",
       "    </tr>\n",
       "    <tr>\n",
       "      <th>8</th>\n",
       "      <td>10711</td>\n",
       "    </tr>\n",
       "    <tr>\n",
       "      <th>11</th>\n",
       "      <td>10593</td>\n",
       "    </tr>\n",
       "    <tr>\n",
       "      <th>6</th>\n",
       "      <td>8586</td>\n",
       "    </tr>\n",
       "    <tr>\n",
       "      <th>3</th>\n",
       "      <td>7185</td>\n",
       "    </tr>\n",
       "  </tbody>\n",
       "</table>\n",
       "</div>"
      ],
      "text/plain": [
       "      name\n",
       "key       \n",
       "0    21499\n",
       "7    20757\n",
       "2    18821\n",
       "9    17628\n",
       "5    16336\n",
       "4    12921\n",
       "1    12816\n",
       "10   12056\n",
       "8    10711\n",
       "11   10593\n",
       "6     8586\n",
       "3     7185"
      ]
     },
     "execution_count": 17,
     "metadata": {},
     "output_type": "execute_result"
    }
   ],
   "source": [
    "df[['key','name']].groupby('key').count().sort_values('name',ascending = False)"
   ]
  },
  {
   "cell_type": "markdown",
   "metadata": {},
   "source": [
    "### 17. [Follow-up] Can you plot a bar chart using Seaborn? Make sure the keys are sorted in a descending order."
   ]
  },
  {
   "cell_type": "code",
   "execution_count": 18,
   "metadata": {},
   "outputs": [
    {
     "data": {
      "text/plain": [
       "<matplotlib.axes._subplots.AxesSubplot at 0x2ceacf51788>"
      ]
     },
     "execution_count": 18,
     "metadata": {},
     "output_type": "execute_result"
    },
    {
     "data": {
      "image/png": "[encoded data removed]",
      "text/plain": [
       "<Figure size 432x288 with 1 Axes>"
      ]
     },
     "metadata": {
      "needs_background": "light"
     },
     "output_type": "display_data"
    }
   ],
   "source": [
    "y = df[['key','name']].groupby('key').count().sort_values('name',ascending=False)\n",
    "x = list(y['name'].keys())\n",
    "\n",
    "sns.barplot(y = y['name'],x = x,order = x, palette = 'inferno')"
   ]
  },
  {
   "cell_type": "markdown",
   "metadata": {},
   "source": [
    "### 18. Can you plot a line graph representing the annual number of songs since 1921?"
   ]
  },
  {
   "cell_type": "code",
   "execution_count": 19,
   "metadata": {},
   "outputs": [
    {
     "data": {
      "image/png": "[encoded data removed]",
      "text/plain": [
       "<Figure size 1440x720 with 1 Axes>"
      ]
     },
     "metadata": {
      "needs_background": "light"
     },
     "output_type": "display_data"
    }
   ],
   "source": [
    "y = df[['year','name']].groupby('year').count()\n",
    "x = list(y['name'].keys())\n",
    "\n",
    "plt.figure(figsize=(20,10))\n",
    "plt.plot(x,y)\n",
    "plt.grid()"
   ]
  },
  {
   "cell_type": "markdown",
   "metadata": {},
   "source": [
    "### 19. Can you visually check if there is relationship between year and popularity?"
   ]
  },
  {
   "cell_type": "code",
   "execution_count": 20,
   "metadata": {},
   "outputs": [
    {
     "data": {
      "image/png": "[encoded data removed]",
      "text/plain": [
       "<Figure size 1440x720 with 1 Axes>"
      ]
     },
     "metadata": {
      "needs_background": "light"
     },
     "output_type": "display_data"
    }
   ],
   "source": [
    "y = df[['year','popularity']].groupby('year').sum()\n",
    "x = list(y['popularity'].keys())\n",
    "\n",
    "plt.figure(figsize=(20,10))\n",
    "plt.plot(x,y)\n",
    "plt.grid()"
   ]
  }
 ],
 "metadata": {
  "kernelspec": {
   "display_name": "Python 3",
   "language": "python",
   "name": "python3"
  },
  "language_info": {
   "codemirror_mode": {
    "name": "ipython",
    "version": 3
   },
   "file_extension": ".py",
   "mimetype": "text/x-python",
   "name": "python",
   "nbconvert_exporter": "python",
   "pygments_lexer": "ipython3",
   "version": "3.7.7"
  }
 },
 "nbformat": 4,
 "nbformat_minor": 4
}
